{
 "cells": [
  {
   "cell_type": "markdown",
   "metadata": {
    "id": "GSkbRHlGws10"
   },
   "source": [
    "# Datatypes exercises"
   ]
  },
  {
   "cell_type": "markdown",
   "metadata": {
    "id": "cyciiVDiws12"
   },
   "source": [
    "## Exercise 1"
   ]
  },
  {
   "cell_type": "markdown",
   "metadata": {
    "id": "XuKy9qOYws13"
   },
   "source": [
    "Write the following mathematical formula in Python:\n",
    "\n",
    "\\begin{align}\n",
    " result = 6a^3 - \\frac{8b^2 }{4c} + 11\n",
    "\\end{align}\n",
    "\n",
    "```python\n",
    "a = 2\n",
    "b = 3\n",
    "c = 2\n",
    "```\n",
    "\n",
    "> write your formula as \n",
    "```python\n",
    "result = \n",
    "```\n",
    "\n",
    "It must verify\n",
    "```python\n",
    ">>> assert result == 50"
   ]
  },
  {
   "cell_type": "code",
   "execution_count": 4,
   "metadata": {
    "id": "yGLAcZZ4ws14"
   },
   "outputs": [],
   "source": [
    "a = 2\n",
    "b = 3\n",
    "c = 2\n",
    "result = 6 * a**3  - (8*b**2/(4*c)) +11\n",
    "assert result == 50"
   ]
  },
  {
   "cell_type": "markdown",
   "metadata": {
    "id": "KYseNonCws14"
   },
   "source": [
    "## Exercise 2"
   ]
  },
  {
   "cell_type": "markdown",
   "metadata": {
    "id": "3IOAPCc8ws14"
   },
   "source": [
    "Explain why the folowing assertion fails"
   ]
  },
  {
   "cell_type": "code",
   "execution_count": 6,
   "metadata": {
    "id": "5IupRUFqws15"
   },
   "outputs": [],
   "source": [
    "assert (0.1 + 0.2 - 0.3 < 10**-6) # will cause assertion error"
   ]
  },
  {
   "cell_type": "markdown",
   "metadata": {
    "id": "JVwcmH6tws15"
   },
   "source": [
    "## Exercise 3"
   ]
  },
  {
   "cell_type": "markdown",
   "metadata": {
    "id": "Ttxpe883ws15"
   },
   "source": [
    "Write a function `sum_list` to sum all the items in a list"
   ]
  },
  {
   "cell_type": "code",
   "execution_count": 11,
   "metadata": {
    "colab": {
     "base_uri": "https://localhost:8080/"
    },
    "id": "ix899nWbws15",
    "outputId": "e8582883-6298-435c-edf9-b67a63886c03"
   },
   "outputs": [
    {
     "name": "stdout",
     "output_type": "stream",
     "text": [
      "29\n"
     ]
    }
   ],
   "source": [
    "def sum_list(x):\n",
    "  total = 0\n",
    "  for val in x:\n",
    "    total += val\n",
    "  return total\n",
    "\n",
    "print(sum([10, 20, -1]))\n",
    "assert sum_list([10, 20, -1]) == 29"
   ]
  },
  {
   "cell_type": "markdown",
   "metadata": {
    "id": "wqGFGN_kws15"
   },
   "source": [
    "## Exercise 4"
   ]
  },
  {
   "cell_type": "markdown",
   "metadata": {
    "id": "FX-cL1w2ws15"
   },
   "source": [
    "Write a program that asks how long it took to run 10 km today. The program continues to ask how long (in minutes) it took for additional runs, until the user enters q. At that point, the program exits — but only after calculating and displaying the average time that the 10 km run took.  \n",
    "\n",
    "\n",
    "Example:\n",
    "```\n",
    "Enter 10 km run time: 15\n",
    "Enter 10 km run time: 20\n",
    "Enter 10 km run time: 10\n",
    "Enter 10 km run time: q\n",
    "\n",
    "Average of 15.0, over 3 runs\n",
    "```"
   ]
  },
  {
   "cell_type": "code",
   "execution_count": 12,
   "metadata": {
    "colab": {
     "base_uri": "https://localhost:8080/"
    },
    "id": "rnJKF4VlyOxt",
    "outputId": "1966f11f-cccd-4acc-b410-eaadfb2941f3"
   },
   "outputs": [
    {
     "name": "stdout",
     "output_type": "stream",
     "text": [
      "Enter 10 km run time:15\n",
      "Enter 10 km run time:20\n",
      "Enter 10 km run time:10\n",
      "Enter 10 km run time:q\n",
      "Average of 15.0, over 3 runs\n"
     ]
    }
   ],
   "source": [
    "lst = []\n",
    "while True:\n",
    "  s = input('Enter 10 km run time:')\n",
    "  if s == 'q':\n",
    "    break\n",
    "  lst.append(int(s))\n",
    "\n",
    "print(f'Average of {sum(lst)/len(lst)}, over {len(lst)} runs')\n",
    "  "
   ]
  },
  {
   "cell_type": "markdown",
   "metadata": {
    "id": "4nzlcSPkws2B"
   },
   "source": [
    "## Exercise 5"
   ]
  },
  {
   "cell_type": "markdown",
   "metadata": {
    "id": "1hxfDLBCws2B"
   },
   "source": [
    "Write a function that takes a string and returns the sorted string."
   ]
  },
  {
   "cell_type": "code",
   "execution_count": 20,
   "metadata": {
    "id": "SOIRP4Tmws2C"
   },
   "outputs": [],
   "source": [
    "def sort_string(s):\n",
    "  x = sorted(\"cabaeb\")\n",
    "  return ''.join(x)\n",
    "assert sort_string(\"cabaeb\") == \"aabbce\""
   ]
  },
  {
   "cell_type": "markdown",
   "metadata": {
    "id": "J6fGHElgws2C"
   },
   "source": [
    "## Exercise 6"
   ]
  },
  {
   "cell_type": "markdown",
   "metadata": {
    "id": "5iWp909Vws2C"
   },
   "source": [
    "Write a function that take a string of multiple words and returns the position of the word with most repeated letters"
   ]
  },
  {
   "cell_type": "code",
   "execution_count": 24,
   "metadata": {
    "id": "zOVdEy_wws2C"
   },
   "outputs": [],
   "source": [
    "def wwmrl(s):\n",
    "    best = 0\n",
    "    pos = 0\n",
    "    for idx, word in enumerate(s):\n",
    "      dist = len(set(list(word)))\n",
    "      doub = len(word) - dist\n",
    "      if doub > best:\n",
    "        best = doub\n",
    "        pos = idx\n",
    "    return pos \n",
    "        \n",
    "assert wwmrl(['this', 'is', 'an', 'elementary', 'aaaaaaaaaaaaaaaaaaaaaaaaaa', 'example', 'aabbccddeeff']) == 4"
   ]
  },
  {
   "cell_type": "markdown",
   "metadata": {
    "id": "0GPdBP4Kws2D"
   },
   "source": [
    "## Exercise 7"
   ]
  },
  {
   "cell_type": "markdown",
   "metadata": {
    "id": "4ZT7-DK4ws2D"
   },
   "source": [
    "1. Create a tuple\n",
    "2. Unpack the tuple in multiple variables"
   ]
  },
  {
   "cell_type": "code",
   "execution_count": 39,
   "metadata": {
    "colab": {
     "base_uri": "https://localhost:8080/"
    },
    "id": "x-OT3tN2ws2D",
    "outputId": "915a85ee-eff5-4fac-f412-73321f951c83"
   },
   "outputs": [
    {
     "name": "stdout",
     "output_type": "stream",
     "text": [
      "('12.20', 7)\n"
     ]
    }
   ],
   "source": [
    "t = ('item1', '12.20', 7, True, False, 1)\n",
    "s = t[1:3]\n",
    "print(s)"
   ]
  },
  {
   "cell_type": "markdown",
   "metadata": {
    "id": "Q8Nc4IQVws2D"
   },
   "source": [
    "## Exercise 8"
   ]
  },
  {
   "cell_type": "markdown",
   "metadata": {
    "id": "Trk7ohlrws2D"
   },
   "source": [
    "Write a Python program to sort a tuple by its float element.  \n",
    "Sample data: `[('item1', '12.20'), ('item2', '15.10'), ('item3', '24.5')]`  \n",
    "Expected Output: `[('item3', '24.5'), ('item2', '15.10'), ('item1', '12.20')]`"
   ]
  },
  {
   "cell_type": "code",
   "execution_count": 44,
   "metadata": {
    "colab": {
     "base_uri": "https://localhost:8080/"
    },
    "id": "0lQHSpdQws2E",
    "outputId": "31552ed1-0577-468f-d556-15d27f888502"
   },
   "outputs": [
    {
     "data": {
      "text/plain": [
       "[('item3', '24.5'), ('item2', '15.10'), ('item1', '12.20')]"
      ]
     },
     "execution_count": 44,
     "metadata": {},
     "output_type": "execute_result"
    }
   ],
   "source": [
    "y = [('item1', '12.20'), ('item2', '15.10'), ('item3', '24.5')]\n",
    "# Methode 1\n",
    "def s(x):\n",
    "  return float(x[1])\n",
    "sorted(y,key=s, reverse=True)\n",
    "# Methode 2\n",
    "sorted(y,key=lambda x : float(x[1]), reverse=True)"
   ]
  },
  {
   "cell_type": "markdown",
   "metadata": {
    "id": "z141YpVSws2E"
   },
   "source": [
    "## Exercise 9"
   ]
  },
  {
   "cell_type": "markdown",
   "metadata": {
    "id": "ZXP_FuCvws2E"
   },
   "source": [
    "Write a Python script to concatenate dictionaries to create a new one."
   ]
  },
  {
   "cell_type": "code",
   "execution_count": 55,
   "metadata": {
    "colab": {
     "base_uri": "https://localhost:8080/"
    },
    "id": "-U142XmPws2F",
    "outputId": "3df9bd17-a38d-4599-fac7-f86754011e1a"
   },
   "outputs": [
    {
     "name": "stdout",
     "output_type": "stream",
     "text": [
      "{1: 10, 6: 60, 3: 30, 4: 40, 2: 20}\n"
     ]
    }
   ],
   "source": [
    "\"\"\"Sample Dictionary\"\"\"\n",
    "dic1={1:10, 2:20}\n",
    "dic2={3:30, 4:40}\n",
    "dic3={1:50,6:60}\n",
    "#Method 1\n",
    "dic = {**dic1, **dic2, **dic3}\n",
    "print(dic)\n",
    "#Method 2\n",
    "for d in [dic1, dic2,dic3]:\n",
    "  dic.update(d)"
   ]
  },
  {
   "cell_type": "markdown",
   "metadata": {
    "id": "dC0o9SF-ws2F"
   },
   "source": [
    "## Exercise 10"
   ]
  },
  {
   "cell_type": "markdown",
   "metadata": {
    "id": "c2nYvOtUws2F"
   },
   "source": [
    "Write a Python program to combine two dictionary adding values for common keys."
   ]
  },
  {
   "cell_type": "code",
   "execution_count": 57,
   "metadata": {
    "colab": {
     "base_uri": "https://localhost:8080/"
    },
    "id": "rp8Zm-GNws2F",
    "outputId": "befebcb1-ef5d-458e-e2c1-a9ee274af6ad"
   },
   "outputs": [
    {
     "name": "stdout",
     "output_type": "stream",
     "text": [
      "{'a': 300, 'b': 200, 'c': 300, 'd': 400}\n",
      "{'a': 400, 'b': 400, 'c': 300, 'd': 400}\n"
     ]
    }
   ],
   "source": [
    "d1 = {'a': 100, 'b': 200, 'c':300}\n",
    "d2 = {'a': 300, 'b': 200, 'd':400}\n",
    "d = {**d1, **d2}\n",
    "print(d)\n",
    "for key in d:\n",
    "  if key in d1 and key in d2:\n",
    "    d[key] = d1[key] + d2[key]\n",
    "print(d)"
   ]
  },
  {
   "cell_type": "markdown",
   "metadata": {
    "id": "qK_IEkq5ws2G"
   },
   "source": [
    "## Exercise 11"
   ]
  },
  {
   "cell_type": "markdown",
   "metadata": {
    "id": "OmHvsY0hws2G"
   },
   "source": [
    "Write a function `convert_to_palindrome` that takes a string and reorders its letters in such a way that it becomes a palindrome (i.e., it reads the same forwards and backwards). If this is not possible return `IMPOSSIBLE`"
   ]
  },
  {
   "cell_type": "code",
   "execution_count": 61,
   "metadata": {
    "colab": {
     "base_uri": "https://localhost:8080/",
     "height": 36
    },
    "id": "u9KSyLU5ws2G",
    "outputId": "25531617-7bfe-4063-93bc-435099891fae"
   },
   "outputs": [
    {
     "data": {
      "application/vnd.google.colaboratory.intrinsic+json": {
       "type": "string"
      },
      "text/plain": [
       "'CAAABAAAC'"
      ]
     },
     "execution_count": 61,
     "metadata": {},
     "output_type": "execute_result"
    }
   ],
   "source": [
    "def convert_to_palindrome(s):\n",
    "  d = {}\n",
    "  for c in set(s):\n",
    "    d[c] = s.count(c)\n",
    "  odd_cnt = 0\n",
    "  t = ('',0)\n",
    "  for key, val in d.items():\n",
    "    if val % 2 == 1:\n",
    "      odd_cnt += 1\n",
    "      t = (key, val)\n",
    "  if odd_cnt > 1:\n",
    "    return \"IMPOSSIBLE\"\n",
    "  part1 = ''\n",
    "  for key, val in d.items():\n",
    "    if val % 2 == 0:\n",
    "      part1 += key * (val//2)  \n",
    "  return part1 + t[0] * t[1] + part1[::-1]\n",
    "convert_to_palindrome('AAAACACBA')\n",
    "#assert (convert_to_palindrome('AAAACACBA') == 'AACABACAA')\n",
    "#assert (convert_to_palindrome('AAAACACBA') == 'IMPOSSIBLE')"
   ]
  },
  {
   "cell_type": "markdown",
   "metadata": {
    "id": "mYferucOws2G"
   },
   "source": [
    "# Exercise 12"
   ]
  },
  {
   "cell_type": "markdown",
   "metadata": {
    "id": "kLKxJJ38ws2G"
   },
   "source": [
    "Write a function `get_unique_elements` that takes a list and returns another list with only the distinct elements. For example, if you are given the list `[1, 3, 'a', 3, 'cd', 1, 'a']` you should return `[1, 3, 'a', 'cd']`"
   ]
  },
  {
   "cell_type": "code",
   "execution_count": 64,
   "metadata": {
    "colab": {
     "base_uri": "https://localhost:8080/"
    },
    "id": "yipM4AoEws2G",
    "outputId": "0572e2fb-c8ba-4291-ae08-528c384d9418"
   },
   "outputs": [
    {
     "data": {
      "text/plain": [
       "[1, 2, 5, 'a', 'g']"
      ]
     },
     "execution_count": 64,
     "metadata": {},
     "output_type": "execute_result"
    }
   ],
   "source": [
    "def get_unique_elements(s):\n",
    "  return list(set(s))\n",
    "get_unique_elements([1, 2, 2, 'a', 'a', 'a', 'g', 5])"
   ]
  },
  {
   "cell_type": "markdown",
   "metadata": {
    "id": "aUOLI_61ws2H"
   },
   "source": [
    "# Exercise 13"
   ]
  },
  {
   "cell_type": "markdown",
   "metadata": {
    "id": "gcZ6nIh3ws2H"
   },
   "source": [
    "Complete the dictionary `str_to_func` so that the following program will work correctly"
   ]
  },
  {
   "cell_type": "code",
   "execution_count": null,
   "metadata": {
    "id": "-UVpe7Sows2H"
   },
   "outputs": [],
   "source": [
    "def sum(a, b):\n",
    "    return a + b\n",
    "def sub(a, b):\n",
    "    return a - b\n",
    "def mul(a, b):\n",
    "    return a * b\n",
    "def div(a, b):\n",
    "    return a / b\n",
    "def pow(a, b):\n",
    "    return a ** b\n",
    "\n",
    "str_to_func = {\n",
    "    '+' : sum,\n",
    "    '-' : sub,\n",
    "    '*' : mul,\n",
    "    '/' : div,\n",
    "    '**': pow\n",
    "}\n",
    "n1 = int(input('Enter first int'))\n",
    "n2 = int(input('Enter Second int'))\n",
    "op = input('Enter symbol') #possible symbols are +, -, *, /, **\n",
    "print(str_to_func[op](n1, n2))"
   ]
  },
  {
   "cell_type": "markdown",
   "metadata": {
    "id": "SVSSsOxZws2I"
   },
   "source": [
    "# Exercise 14"
   ]
  },
  {
   "cell_type": "markdown",
   "metadata": {
    "id": "lVBx52_9ws2I"
   },
   "source": [
    "Using list comprehension, create a list containing only the words longer than `11` characters from the string `s`"
   ]
  },
  {
   "cell_type": "code",
   "execution_count": 68,
   "metadata": {
    "id": "ZsXfI8oews2I"
   },
   "outputs": [],
   "source": [
    "s = \"\"\"Lorem ipsum dolor sit amet consectetur adipisicing elit. Maxime mollitia,\n",
    "molestiae quas vel sint commodi repudiandae consequuntur voluptatum laborum\n",
    "numquam blanditiis harum quisquam eius sed odit fugiat iusto fuga praesentium\n",
    "optio, eaque rerum! Provident similique accusantium nemo autem. Veritatis\n",
    "obcaecati tenetur iure eius earum ut molestias architecto voluptate aliquam\n",
    "nihil, eveniet aliquid culpa officia aut! Impedit sit sunt quaerat, odit,\n",
    "tenetur error, harum nesciunt ipsum debitis quas aliquid. Reprehenderit,\n",
    "quia. Quo neque error repudiandae fuga? Ipsa laudantium molestias eos \n",
    "sapiente officiis modi at sunt excepturi expedita sint? Sed quibusdam\n",
    "recusandae alias error harum maxime adipisci amet laborum. Perspiciatis \n",
    "minima nesciunt dolorem! Officiis iure rerum voluptates a cumque velit \n",
    "quibusdam sed amet tempora. Sit laborum ab, eius fugit doloribus tenetur \n",
    "fugiat, temporibus enim commodi iusto libero magni deleniti quod quam \n",
    "consequuntur! Commodi minima excepturi repudiandae velit hic maxime\n",
    "doloremque. Quaerat provident commodi consectetur veniam similique ad \n",
    "earum omnis ipsum saepe, voluptas, hic voluptates pariatur est explicabo \n",
    "fugiat, dolorum eligendi quam cupiditate excepturi mollitia maiores labore \n",
    "suscipit quas? Nulla, placeat. Voluptatem quaerat non architecto ab laudantium\n",
    "modi minima sunt esse temporibus sint culpa, recusandae aliquam numquam \n",
    "totam ratione voluptas quod exercitationem fuga. Possimus quis earum veniam \n",
    "quasi aliquam eligendi, placeat qui corporis!\n",
    "\"\"\"\n",
    "0,1,4,9,16,49\n",
    "lst = []\n",
    "for x in range(8):\n",
    "  lst.append(x**2)\n",
    "#list comprehension\n",
    "lst = [x**2 for x in range(8)]\n",
    "res = [word for word in s.split() if len(word) > 11]\n",
    "res = []\n",
    "for word in s.split():\n",
    "  if len(word) > 11:\n",
    "    res.append(word)\n",
    "# store your answer in the variable res\n",
    "assert(res == ['consequuntur', 'Reprehenderit,', 'Perspiciatis', 'consequuntur!', 'exercitationem'])"
   ]
  },
  {
   "cell_type": "markdown",
   "metadata": {
    "id": "QQdDjHEGws2I"
   },
   "source": [
    "# Exercise 15"
   ]
  },
  {
   "cell_type": "markdown",
   "metadata": {
    "id": "eUOqABU2ws2J"
   },
   "source": [
    "The number `1655172` is actually equal to `a * 7 + b * 11`. Can you find `a` and `b`?"
   ]
  },
  {
   "cell_type": "code",
   "execution_count": 73,
   "metadata": {
    "colab": {
     "base_uri": "https://localhost:8080/"
    },
    "id": "OYcNKxE1ws2J",
    "outputId": "f552294a-000f-4bb7-8191-bdb7e3e853c1"
   },
   "outputs": [
    {
     "name": "stdout",
     "output_type": "stream",
     "text": [
      "5 150467\n"
     ]
    }
   ],
   "source": [
    "# your code here\n",
    "n = 1655172\n",
    "for a in range(n//7): \n",
    "  if (n - a * 7) % 11 == 0:\n",
    "    print(a, (n -a *7) //11)\n",
    "    break\n"
   ]
  },
  {
   "cell_type": "code",
   "execution_count": null,
   "metadata": {
    "id": "JGp4FhsTHIum"
   },
   "outputs": [],
   "source": []
  }
 ],
 "metadata": {
  "colab": {
   "provenance": []
  },
  "kernelspec": {
   "display_name": "Python 3",
   "language": "python",
   "name": "python3"
  },
  "language_info": {
   "codemirror_mode": {
    "name": "ipython",
    "version": 3
   },
   "file_extension": ".py",
   "mimetype": "text/x-python",
   "name": "python",
   "nbconvert_exporter": "python",
   "pygments_lexer": "ipython3",
   "version": "3.8.10"
  },
  "vscode": {
   "interpreter": {
    "hash": "916dbcbb3f70747c44a77c7bcd40155683ae19c65e1c03b4aa3499c5328201f1"
   }
  }
 },
 "nbformat": 4,
 "nbformat_minor": 1
}
