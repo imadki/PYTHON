{
 "cells": [
  {
   "cell_type": "markdown",
   "id": "c58884ae",
   "metadata": {
    "id": "c58884ae"
   },
   "source": [
    "# Exercise 01: Standard output"
   ]
  },
  {
   "cell_type": "markdown",
   "id": "98a55ba6",
   "metadata": {
    "id": "98a55ba6"
   },
   "source": [
    "1. Print your name on the standard Output using the function `print`.\n",
    "2. Print your name, age and city each in a separate line.\n",
    "3. Print your name, age and city In a single line\n",
    "4. In a meaningful sentence Print your name, age and city in a single line"
   ]
  },
  {
   "cell_type": "code",
   "execution_count": 3,
   "id": "7ec3cd3f",
   "metadata": {
    "colab": {
     "base_uri": "https://localhost:8080/"
    },
    "id": "7ec3cd3f",
    "outputId": "9c15173c-4c2f-4500-ccf9-65088c3aa6b7"
   },
   "outputs": [
    {
     "name": "stdout",
     "output_type": "stream",
     "text": [
      "Ahmed-Ahmed\n",
      "25\n",
      "Casablanca\n",
      "Ahmed*25*Casablanca\n",
      "my name is Ahmed, I am 25, and I am from Casablanca\n"
     ]
    }
   ],
   "source": [
    "name = 'Ahmed'\n",
    "age = 25\n",
    "city = 'Casablanca'\n",
    "print(name, end='-')\n",
    "print(name)\n",
    "print(age)\n",
    "print(city)\n",
    "print(name, age, city, sep='*')\n",
    "print('my name is {0}, I am {1}, and I am from {2}'.format(name, age, city))\n"
   ]
  },
  {
   "cell_type": "markdown",
   "id": "4eb25b0a",
   "metadata": {
    "id": "4eb25b0a"
   },
   "source": [
    "# Exercise 02: Variables"
   ]
  },
  {
   "cell_type": "markdown",
   "id": "75b5ed2c",
   "metadata": {
    "id": "75b5ed2c"
   },
   "source": [
    "Consider the following statements (remember a statement is a line of code the interpreter can execute. `x = 1` is an expression that stores the value `1` into `x`):\n",
    "1. Print the summation, subtruction, multiplication and division of `x` and `y` each in a separate line without using any other variables.\n",
    "2. Store the summation, subtruction, multiplication and division of `x` and `y` each in a separate variable, print those variables each in a separate line."
   ]
  },
  {
   "cell_type": "code",
   "execution_count": 5,
   "id": "3c382322",
   "metadata": {
    "colab": {
     "base_uri": "https://localhost:8080/"
    },
    "id": "3c382322",
    "outputId": "52128027-fc92-4243-a067-9e73a7004a2c"
   },
   "outputs": [
    {
     "name": "stdout",
     "output_type": "stream",
     "text": [
      "3\n",
      "-1\n",
      "2\n",
      "0.5\n",
      "0\n",
      "3\n",
      "-1\n",
      "2\n",
      "0.5\n",
      "3, -1, 2, 0.5\n"
     ]
    }
   ],
   "source": [
    "x = 1\n",
    "y = 2\n",
    "print(x+y)\n",
    "print(x-y)\n",
    "print(x * y)\n",
    "\n",
    "print(x/y)\n",
    "\n",
    "print(x//y)\n",
    "\n",
    "sum = x + y\n",
    "diff = x - y\n",
    "prod = x * y\n",
    "div = x / y\n",
    "\n",
    "print(sum)\n",
    "print(diff)\n",
    "print(prod)\n",
    "print(div)\n",
    "print(sum, diff, prod, div, sep=', ')"
   ]
  },
  {
   "cell_type": "markdown",
   "id": "fcd700f5",
   "metadata": {
    "id": "fcd700f5"
   },
   "source": [
    "# Exercise 03: Variables"
   ]
  },
  {
   "cell_type": "markdown",
   "id": "a608bd37",
   "metadata": {
    "id": "a608bd37"
   },
   "source": [
    "Consider the following statements:\n",
    "1. Swap the values of `x` and `y` . *`x` should store the value of `y` and `y` should store the value of `x`*\n",
    "2. Store the sum of `x` and `y` into `x` and their subtraction into `y`"
   ]
  },
  {
   "cell_type": "code",
   "execution_count": 10,
   "id": "28aba62a",
   "metadata": {
    "colab": {
     "base_uri": "https://localhost:8080/"
    },
    "id": "28aba62a",
    "outputId": "59ca51ef-f99a-4391-968f-c4eb6f4a186a"
   },
   "outputs": [
    {
     "name": "stdout",
     "output_type": "stream",
     "text": [
      "55 -11\n"
     ]
    }
   ],
   "source": [
    "x = 22\n",
    "y = 33\n",
    "\n",
    "#x, y = y, x\n",
    "x, y = x + y, x - y\n",
    "print(x, y)"
   ]
  },
  {
   "cell_type": "markdown",
   "id": "cdddaca1",
   "metadata": {
    "id": "cdddaca1"
   },
   "source": [
    "# Exercise 04: Conditions"
   ]
  },
  {
   "cell_type": "markdown",
   "id": "9fa90c43",
   "metadata": {
    "id": "9fa90c43"
   },
   "source": [
    "Consider the following statements\n",
    "1. Write an **if statement** to check if `x` is equal to `y` if so print `\"x and y are equal\"` otherwise print `\"x and y are not equal\"`\n",
    "2. Write an **if statement** to check if `x` is equal to `z` if so print `\"x and z are equal\"` otherwise print `\"x and z are not equal\"`\n",
    "3. Write an **if statement** to check if either `x` is equal `y` or `x`  is equal to `z` if so print `x is equal to y or z` otherwise print `\"x is equal to neither y nor z\"`\n",
    "4. Write an **if statement** to check if `x` is equal to both `y` and `z` if so print `x is equal to both y and z` otherwise print `\"x is equal to neither y nor z\"`"
   ]
  },
  {
   "cell_type": "code",
   "execution_count": null,
   "id": "83d12754",
   "metadata": {
    "id": "83d12754",
    "outputId": "e82ad424-5823-451b-8e98-e9c1a7d16116"
   },
   "outputs": [
    {
     "name": "stdout",
     "output_type": "stream",
     "text": [
      "3 is equal to 3 or 4 is equal to 1\n"
     ]
    }
   ],
   "source": [
    "x = 1\n",
    "y = 2\n",
    "z = 1\n",
    "\n",
    "if x == y:\n",
    "  print('x and y are equal')\n",
    "else:\n",
    "  print('x and y are not equal')\n",
    "\n",
    "if x == z:\n",
    "  print('x and z are equal')\n",
    "else:\n",
    "  print('x and z are not equal')\n",
    "\n",
    "if x == y or x == z:\n",
    "  print('x is equal to y or z')\n",
    "else:\n",
    "  print('x is equal to neither y nor z')\n",
    "\n",
    "if x == y and x == z:\n",
    "  print('x is equal to both y and z')\n",
    "else:\n",
    "  print('x is equal to neither y nor z')"
   ]
  },
  {
   "cell_type": "markdown",
   "id": "492aaed0",
   "metadata": {
    "id": "492aaed0"
   },
   "source": [
    "# Exercise 05: Conditions"
   ]
  },
  {
   "cell_type": "markdown",
   "id": "302e1350",
   "metadata": {
    "id": "302e1350"
   },
   "source": [
    "Consider the following statements:\n",
    "1. Using the modulo operator `%`, check each variable if it is divisible by two and print some useful output.\n",
    "2. Using the modulo operator `%`, check if at least one of the variables is divisible by two and print some useful output\n",
    "3. Using the modulo operator `%`, check if all the variables ar divisible by two and print some useful output"
   ]
  },
  {
   "cell_type": "code",
   "execution_count": 11,
   "id": "3aaf1703",
   "metadata": {
    "colab": {
     "base_uri": "https://localhost:8080/"
    },
    "id": "3aaf1703",
    "outputId": "58649dc4-2f8b-4e20-ef53-a90542ad6b49"
   },
   "outputs": [
    {
     "name": "stdout",
     "output_type": "stream",
     "text": [
      "y is even\n",
      "at least one variable is even\n"
     ]
    }
   ],
   "source": [
    "x = 9\n",
    "y = 222\n",
    "z = 3\n",
    "\n",
    "if x % 2 == 0:\n",
    "  print('x is even')\n",
    "if y % 2 == 0:\n",
    "  print('y is even')\n",
    "if z % 2 == 0:\n",
    "  print('z is even')\n",
    "if x % 2 == 0 or y % 2 == 0 or z % 2 == 0:\n",
    "  print('at least one variable is even')\n",
    "if x % 2 == 0 and y % 2 == 0 and z % 2 == 0:\n",
    "  print('all variables are even')"
   ]
  },
  {
   "cell_type": "markdown",
   "id": "053e15a4",
   "metadata": {
    "id": "053e15a4"
   },
   "source": [
    "# Exercise 06: Variables and conditions"
   ]
  },
  {
   "cell_type": "markdown",
   "id": "3ecac2c0",
   "metadata": {
    "id": "3ecac2c0"
   },
   "source": [
    "Consider the bellow statements:\n",
    "- Write an **if else statement** to check wheter the variable `x` is even or odd, if it is even print `\"x is even\"` otherwise print `\"x is odd\"`"
   ]
  },
  {
   "cell_type": "code",
   "execution_count": 13,
   "id": "938a6241",
   "metadata": {
    "id": "938a6241"
   },
   "outputs": [
    {
     "name": "stdout",
     "output_type": "stream",
     "text": [
      "x is odd\n"
     ]
    }
   ],
   "source": [
    "x = 65\n",
    "\n",
    "if x %2 == 0:\n",
    "  print('x is even')\n",
    "elif x % 2 == 1: #else\n",
    "  print('x is odd')"
   ]
  },
  {
   "cell_type": "markdown",
   "id": "13d33a69",
   "metadata": {
    "id": "13d33a69"
   },
   "source": [
    "# Exercise 07: Variables and conditions"
   ]
  },
  {
   "cell_type": "markdown",
   "id": "e769faa4",
   "metadata": {
    "id": "e769faa4"
   },
   "source": [
    "Consider the bellow code:\n",
    "1. Only by looking at the code, can you tell the type of the variables `x` and `y`.\n",
    "2. Print the type of the variables `x` and `y` using the function `type`.\n"
   ]
  },
  {
   "cell_type": "code",
   "execution_count": 18,
   "id": "6112c1d9",
   "metadata": {
    "id": "6112c1d9"
   },
   "outputs": [
    {
     "data": {
      "text/plain": [
       "0"
      ]
     },
     "execution_count": 18,
     "metadata": {},
     "output_type": "execute_result"
    }
   ],
   "source": [
    "x = True\n",
    "y = False\n",
    "\n",
    "True * False\n",
    "\n",
    "#Write your answer bellow"
   ]
  },
  {
   "cell_type": "markdown",
   "id": "ec61aee1",
   "metadata": {
    "id": "ec61aee1"
   },
   "source": [
    "# Exercise 08: conditions"
   ]
  },
  {
   "cell_type": "markdown",
   "id": "328ff359",
   "metadata": {
    "id": "328ff359"
   },
   "source": [
    "Consider the variable `x`:\n",
    "- Using the modulo operator `%` and **if, elif, else** statements check if `x` is divisible by `2` if so print `\"x is divisible by 2\"` and check if `x` is divisible by `3` if so print `\"x is divisible by 3\"`, and check if `x` is divisible by `6` if so print `\"x is divisible by 6\"` else using a pass statement do nothing."
   ]
  },
  {
   "cell_type": "code",
   "execution_count": null,
   "id": "f9fc1065",
   "metadata": {
    "id": "f9fc1065"
   },
   "outputs": [],
   "source": [
    "x = 2322\n",
    "if x % 2 == 0:\n",
    "  print('x is divisible by 2')\n",
    "if x % 3 == 0:\n",
    "  print('x is divisible by 3')\n",
    "if x % 6 == 0:\n",
    "  print('x is divisible by 6')\n",
    "else:\n",
    "  pass"
   ]
  },
  {
   "cell_type": "markdown",
   "id": "bfe2c7b1",
   "metadata": {
    "id": "bfe2c7b1"
   },
   "source": [
    "# Exercise 09: conditions"
   ]
  },
  {
   "cell_type": "markdown",
   "id": "2d173da8",
   "metadata": {
    "id": "2d173da8"
   },
   "source": [
    "Consider the variable `x`:\n",
    "- Using an **if statement** check if `x` is divisible by `2`and a **nested if statement** to check if it's divisible by `3`."
   ]
  },
  {
   "cell_type": "code",
   "execution_count": 20,
   "id": "e773f312",
   "metadata": {
    "id": "e773f312"
   },
   "outputs": [],
   "source": [
    "x = 8989\n",
    "if x % 2 == 0:\n",
    "    print('x is divisible by 2')\n",
    "    if x % 3 == 0:\n",
    "        print('x is divisible by 3')"
   ]
  },
  {
   "cell_type": "markdown",
   "id": "1c40dbb2",
   "metadata": {
    "id": "1c40dbb2"
   },
   "source": [
    "# Exercise 10: Variables and conditions"
   ]
  },
  {
   "cell_type": "markdown",
   "id": "a7f37439",
   "metadata": {
    "id": "a7f37439"
   },
   "source": [
    "Consider following statements:\n",
    "- Only by looking at the code, can you tell what would be printed. write your answer as comments next to each print statement.\n",
    "- Explain the behavior, write your answer as comments at the end of the code."
   ]
  },
  {
   "cell_type": "code",
   "execution_count": 29,
   "id": "4615cb39",
   "metadata": {
    "id": "4615cb39"
   },
   "outputs": [
    {
     "name": "stdout",
     "output_type": "stream",
     "text": [
      "True\n",
      "False\n",
      "True\n",
      "True\n",
      "True\n",
      "True\n"
     ]
    }
   ],
   "source": [
    "x = 3\n",
    "y = 3.3\n",
    "z = True\n",
    "a = 'test'\n",
    "\n",
    "print(type(x) is int)\n",
    "print(type(y) is str)\n",
    "print(type(y) is float)\n",
    "print(type(z) is bool)\n",
    "print(type(a) is str)\n",
    "\n",
    "\n",
    "print(isinstance(x, int))"
   ]
  },
  {
   "cell_type": "markdown",
   "id": "a854f619",
   "metadata": {
    "id": "a854f619"
   },
   "source": [
    "# Exercise 11: Standard Input/Output"
   ]
  },
  {
   "cell_type": "markdown",
   "id": "2d941c03",
   "metadata": {
    "id": "2d941c03"
   },
   "source": [
    "Create a program that takes an input from the user and print it in the standard output."
   ]
  },
  {
   "cell_type": "code",
   "execution_count": 35,
   "id": "cf96712f",
   "metadata": {
    "colab": {
     "base_uri": "https://localhost:8080/"
    },
    "id": "cf96712f",
    "outputId": "e89b474f-b6a0-49ac-ed9a-8093c381700a"
   },
   "outputs": [
    {
     "name": "stdout",
     "output_type": "stream",
     "text": [
      "enter a sentencebonjour tout le monde\n",
      "bonjour tout le monde\n"
     ]
    }
   ],
   "source": [
    "line  = input('enter a sentence')\n",
    "print(line)"
   ]
  },
  {
   "cell_type": "markdown",
   "id": "ceaad399",
   "metadata": {
    "id": "ceaad399"
   },
   "source": [
    "# Exercise 12: Standard I/O"
   ]
  },
  {
   "cell_type": "markdown",
   "id": "6a3b6743",
   "metadata": {
    "id": "6a3b6743"
   },
   "source": [
    "Create a program that takes the name and age of the user from the standard input.\n",
    " 1. If the user entered `\"hamid\"` and `\"23\"` print `hamis is 23`.\n",
    " 2. Use the method `format` to do the same thing as above."
   ]
  },
  {
   "cell_type": "code",
   "execution_count": null,
   "id": "48202165",
   "metadata": {
    "colab": {
     "base_uri": "https://localhost:8080/"
    },
    "id": "48202165",
    "outputId": "5fe4f58c-13ca-4b01-b9e7-2c932cb809b9"
   },
   "outputs": [],
   "source": [
    "nom, prenom, age = input().split(' ')\n",
    "\n",
    "print(nom + ' is '+ age)"
   ]
  },
  {
   "cell_type": "markdown",
   "id": "08d4179a",
   "metadata": {
    "id": "08d4179a"
   },
   "source": [
    "# Exercise 13: Standard I/O"
   ]
  },
  {
   "cell_type": "markdown",
   "id": "5c56c31b",
   "metadata": {
    "id": "5c56c31b"
   },
   "source": [
    "Create a program that takes an integer from the input and print its type.\n",
    "- Run your code and enter the value `\"11\"`\n",
    "- Run your code again and enter the value `test`\n",
    "- Explain the output."
   ]
  },
  {
   "cell_type": "code",
   "execution_count": 12,
   "id": "6cdbc7f3",
   "metadata": {
    "colab": {
     "base_uri": "https://localhost:8080/"
    },
    "id": "6cdbc7f3",
    "outputId": "d922f88b-8517-499a-bcb5-a8e4a7046afa"
   },
   "outputs": [
    {
     "name": "stdout",
     "output_type": "stream",
     "text": [
      "123\n",
      "<class 'str'>\n"
     ]
    }
   ],
   "source": [
    "x = input()\n",
    "print(type(x))"
   ]
  },
  {
   "cell_type": "markdown",
   "id": "be2f82d1",
   "metadata": {
    "id": "be2f82d1"
   },
   "source": [
    "# Exrecise 14: Variables"
   ]
  },
  {
   "cell_type": "markdown",
   "id": "78976138",
   "metadata": {
    "id": "78976138"
   },
   "source": [
    "1. Store the values `1`, `0.0`, `1j` and `\"this is a string\"` in the variables `a`, `b`, `c`, and `d` respectively.\n",
    "2. Print the type of each variable using the function `type`.\n",
    "3. \n",
    "    * Print the type of the following sums : `a + b` and `b + c`, and explain the behavior.\n",
    "    * Try summing `a` and `d`, and explain the behavior.\n",
    "4. consider the two following strings `122` and `rrr`.\n",
    "    * Using `int` class constuctor try to convert the  above strings to integer types.\n",
    "    * What do we call the above behavior\n",
    "    * *Don't worry about the term constructors we will get back to them later just use the syntax `int(122)`.*\n"
   ]
  },
  {
   "cell_type": "code",
   "execution_count": 15,
   "id": "0263f91e",
   "metadata": {
    "colab": {
     "base_uri": "https://localhost:8080/"
    },
    "id": "0263f91e",
    "outputId": "1b9b9c45-2dd5-445d-a0d3-92ad03595cae"
   },
   "outputs": [
    {
     "name": "stdout",
     "output_type": "stream",
     "text": [
      "<class 'int'>\n",
      "<class 'float'>\n",
      "<class 'complex'>\n",
      "<class 'str'>\n",
      "<class 'float'>\n",
      "<class 'complex'>\n",
      "122\n"
     ]
    }
   ],
   "source": [
    "a = 1\n",
    "b = 0.0\n",
    "c = 1j\n",
    "d = 'this is a string'\n",
    "print(type(a))\n",
    "print(type(b))\n",
    "print(type(c))\n",
    "print(type(d))\n",
    "print(type(a+b))\n",
    "print(type(b+c))\n",
    "s1 = '122'\n",
    "s2 = 'rrr'\n",
    "n1 = int(122.0)\n",
    "print(n1)"
   ]
  },
  {
   "cell_type": "markdown",
   "id": "4a1a82eb",
   "metadata": {
    "id": "4a1a82eb"
   },
   "source": [
    "# Exercise 15: Variables"
   ]
  },
  {
   "cell_type": "markdown",
   "id": "9d6ec9ad",
   "metadata": {
    "id": "9d6ec9ad"
   },
   "source": [
    "Create a program that takes two strings from the user.\n",
    "* Enter the values `122` and `rrr` and print their according types.\n",
    "* Use the method `isdigit()` to make sure the input is a valid integer.\n",
    "    * *Don't worry about the term method just think of it as a special function that we call using the syntax `var.isdigit()` where var is a variable that stores some data*\n",
    "* If the user entered invalid input print `\"invalid input\"` and terminate the program.\n",
    "* If the user entered a valid input print the sum of the integers.\n"
   ]
  },
  {
   "cell_type": "code",
   "execution_count": 17,
   "id": "92f1121a",
   "metadata": {
    "colab": {
     "base_uri": "https://localhost:8080/"
    },
    "id": "92f1121a",
    "outputId": "5636706c-e950-4739-dff6-dff301861139"
   },
   "outputs": [
    {
     "name": "stdout",
     "output_type": "stream",
     "text": [
      "4\n",
      "r\n",
      "invalid input\n"
     ]
    }
   ],
   "source": [
    "s1 = input()\n",
    "s2 = input()\n",
    "if s1.isdigit() and s2.isdigit():\n",
    "  n1 = int(s1)\n",
    "  n2 = int(s2)\n",
    "  print(n1 + n2)\n",
    "else:\n",
    "  print('invalid input')"
   ]
  },
  {
   "cell_type": "markdown",
   "id": "dbb89719",
   "metadata": {
    "id": "dbb89719"
   },
   "source": [
    "# Exercise 16: Conditions"
   ]
  },
  {
   "cell_type": "markdown",
   "id": "2515d3c1",
   "metadata": {
    "id": "2515d3c1"
   },
   "source": [
    "- Create a program that reads from the standard input two integers and a binary operator (`+`,`-`,`/` or `*`) and prints the result of the opration on the two integers.\n",
    "    - Check the validity of the input, and print `\"Invalid input\"` if the input is not valid.\n",
    "    \n",
    "- Rewrite the program so it can also take floats or complex numbers or any combinasion of the mentioned types.\n",
    "    - Check the validity of the input, and print `Invalid input` if the input is not valid."
   ]
  },
  {
   "cell_type": "code",
   "execution_count": 21,
   "id": "4e93835b",
   "metadata": {
    "colab": {
     "base_uri": "https://localhost:8080/"
    },
    "id": "4e93835b",
    "outputId": "a901929a-09b2-410d-c635-4a430b539c0d"
   },
   "outputs": [
    {
     "name": "stdout",
     "output_type": "stream",
     "text": [
      "0.4 0.7 *\n",
      "0.27999999999999997\n"
     ]
    }
   ],
   "source": [
    "def isfloat(x):\n",
    "  try:\n",
    "    x = float(x)\n",
    "    return True\n",
    "  except:\n",
    "    return False\n",
    "\n",
    "\n",
    "s1, s2, s3 = input().split(' ')\n",
    "if not isfloat(s1) or not isfloat(s2) or not s3 in '+-/*':\n",
    "  print('invalid input')\n",
    "n1 = float(s1)\n",
    "n2 = float(s2)\n",
    "if s3 == '+':\n",
    "  print(n1+n2)\n",
    "elif s3 == '-':\n",
    "  print(n1-n2)\n",
    "elif s3 == '/':\n",
    "  print(n1/n2)\n",
    "elif s3 == '*':\n",
    "  print(n1*n2)"
   ]
  },
  {
   "cell_type": "markdown",
   "id": "ea65b58c",
   "metadata": {
    "id": "ea65b58c"
   },
   "source": [
    "# Exercise 17: While loop"
   ]
  },
  {
   "cell_type": "markdown",
   "id": "dbbdd7a4",
   "metadata": {
    "id": "dbbdd7a4"
   },
   "source": [
    "Consider an algorithm that takes as input a positive integer n. If n is even, the algorithm divides it by two, and if n is odd, the algorithm multiplies it by three and adds one. The algorithm repeats this, until n is one. For example, the sequence for n=3 is as follows:<br>\n",
    "    `3→10→5→16→8→4→2→1`\n",
    "- Create a program that reads the integer n from the standard input and simulates the execition of the algorithm for the given n by printing all the values in a single line.<br>\n",
    "    * Sample input:<br>\n",
    "    `3`\n",
    "    * Sample output:<br>\n",
    "    `3 10 5 16 8 4 2 1`"
   ]
  },
  {
   "cell_type": "code",
   "execution_count": 28,
   "id": "e996b286",
   "metadata": {
    "colab": {
     "base_uri": "https://localhost:8080/"
    },
    "id": "e996b286",
    "outputId": "25cc02b9-985d-45fc-d05b-b4060b71ddc9"
   },
   "outputs": [
    {
     "name": "stdout",
     "output_type": "stream",
     "text": [
      "1\n",
      "1 "
     ]
    }
   ],
   "source": [
    "x = int(input())\n",
    "while True:\n",
    "  print (x, end=' ')\n",
    "  if x == 1:\n",
    "    break\n",
    "  elif x % 2 == 0:\n",
    "    x //= 2\n",
    "  else:\n",
    "    x = 3 * x +1"
   ]
  },
  {
   "cell_type": "markdown",
   "id": "90671456",
   "metadata": {
    "id": "90671456"
   },
   "source": [
    "## Exercise 18: For Loop"
   ]
  },
  {
   "cell_type": "markdown",
   "id": "29284bc1",
   "metadata": {
    "id": "29284bc1"
   },
   "source": [
    "You are given a list of strings that contains some names.<br>\n",
    "Finish up the code below so that it prints `Salam <Name> !` for each name in the list.\n",
    "* Expected output:<br>\n",
    "    `Salam Omar!`<br>\n",
    "    `Salam Zineb!`<br>\n",
    "    `Salam Hamza!`<br>\n",
    "    `Salam Ibrahim!`<br>\n",
    "    `Salam Kawtar!`<br>\n",
    "    `Salam Nabil!`"
   ]
  },
  {
   "cell_type": "code",
   "execution_count": 22,
   "id": "7e5405de",
   "metadata": {
    "colab": {
     "base_uri": "https://localhost:8080/"
    },
    "id": "7e5405de",
    "outputId": "5237b37d-0a38-47e7-f10a-c2a9b7949333"
   },
   "outputs": [
    {
     "name": "stdout",
     "output_type": "stream",
     "text": [
      "Salam Omar!\n",
      "Salam Zineb!\n",
      "Salam Hamza!\n",
      "Salam Ibrahim!\n",
      "Salam Kawtar!\n",
      "Salam Nabil!\n"
     ]
    }
   ],
   "source": [
    "lst_name = ['Omar', 'Zineb', 'Hamza', 'Ibrahim', 'Kawtar', 'Nabil']\n",
    "for name in lst_name:\n",
    "  print('Salam ' + name + \"!\")\n",
    "  #print('Salam {}!'.format(name))"
   ]
  },
  {
   "cell_type": "markdown",
   "id": "e90c376b",
   "metadata": {
    "id": "e90c376b"
   },
   "source": [
    "# Exercise 19: Functions"
   ]
  },
  {
   "cell_type": "markdown",
   "id": "489b61ff",
   "metadata": {
    "id": "489b61ff"
   },
   "source": [
    "fFinish up the code below by implementing the function sum_of_digits that takes an integer and returns the sum of its digits.\n",
    "* Exepected output:<br>\n",
    "    `26`"
   ]
  },
  {
   "cell_type": "code",
   "execution_count": 23,
   "id": "a761d4c4",
   "metadata": {
    "colab": {
     "base_uri": "https://localhost:8080/"
    },
    "id": "a761d4c4",
    "outputId": "7cf3de2c-0a05-4229-ceb5-328ea908853e"
   },
   "outputs": [
    {
     "name": "stdout",
     "output_type": "stream",
     "text": [
      "26\n"
     ]
    }
   ],
   "source": [
    "def sum_of_digits(x):\n",
    "  x = str(x)\n",
    "  out = 0\n",
    "  for c in x:\n",
    "    out += int(c)\n",
    "  return out\n",
    "\n",
    "def sum_of_digits(x):\n",
    "  out = 0\n",
    "  while x > 0:\n",
    "    out += x % 10\n",
    "    x //= 10\n",
    "  return out\n",
    "print(sum_of_digits(989))"
   ]
  }
 ],
 "metadata": {
  "colab": {
   "provenance": []
  },
  "kernelspec": {
   "display_name": "Python 3",
   "language": "python",
   "name": "python3"
  },
  "language_info": {
   "codemirror_mode": {
    "name": "ipython",
    "version": 3
   },
   "file_extension": ".py",
   "mimetype": "text/x-python",
   "name": "python",
   "nbconvert_exporter": "python",
   "pygments_lexer": "ipython3",
   "version": "3.8.10"
  }
 },
 "nbformat": 4,
 "nbformat_minor": 5
}
