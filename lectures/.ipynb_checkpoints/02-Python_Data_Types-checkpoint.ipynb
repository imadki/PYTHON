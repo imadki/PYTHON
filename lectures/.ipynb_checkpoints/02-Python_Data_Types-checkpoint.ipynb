{
 "cells": [
  {
   "cell_type": "markdown",
   "metadata": {
    "id": "M_N8vKTz4GbD"
   },
   "source": [
    "<h1 align=\"center\"> Python Datatype</h1>\n",
    "\n",
    "### Outlines:\n",
    "- Other data types\n",
    "- Advaned data types\n",
    "- List comprehensions"
   ]
  },
  {
   "cell_type": "markdown",
   "metadata": {
    "id": "aoMrBqLXwpVT"
   },
   "source": [
    "## Basic data types\n",
    "In Python, every value has a datatype, but you don’t need to declare the datatype of variables. How does that work? Based on each variable’s original assignment, Python figures out what type it is and keeps tracks of that internally.\n"
   ]
  },
  {
   "cell_type": "markdown",
   "metadata": {
    "id": "cr6oB1VP3lke"
   },
   "source": [
    "### Numbers\n",
    "The integer numbers (e.g. 2, 4, 20) have type int, the ones with a\n",
    "fractional part (e.g. 5.0, 1.6) have type float.\n",
    "Expression syntax is straightforward: the operators +, -, * and / work just like in\n",
    "most other languages; parentheses (()) can be used for grouping.\n",
    "The equal sign (=) is used to assign a value to a variable."
   ]
  },
  {
   "cell_type": "code",
   "execution_count": 1,
   "metadata": {
    "id": "G696UGzTwpVU"
   },
   "outputs": [],
   "source": [
    "print(2 + 10)\n",
    "print(50 - 5*6)\n",
    "print((50 - 5.0*6) / 4)\n",
    "print(8.0 / 6)\n",
    "print(2**12345)\n",
    "print(2.0 ** 12347)"
   ]
  },
  {
   "cell_type": "markdown",
   "metadata": {},
   "source": [
    "## Booleans\n",
    "\n",
    "Booleans are either true or false. Python has two constants, cleverly named `True` and `False`, which can be used to assign **boolean** values directly. Expressions can also evaluate to a boolean value."
   ]
  },
  {
   "cell_type": "code",
   "execution_count": 3,
   "metadata": {},
   "outputs": [],
   "source": [
    "size = 1"
   ]
  },
  {
   "cell_type": "markdown",
   "metadata": {},
   "source": [
    "**size** is an integer, 0 is an integer, and < is a numerical operator. The result of the expression **size < 0** is always a boolean. You can test this yourself in the Python interactive shell:"
   ]
  },
  {
   "cell_type": "code",
   "execution_count": 4,
   "metadata": {},
   "outputs": [],
   "source": [
    "size < 0"
   ]
  },
  {
   "cell_type": "code",
   "execution_count": 6,
   "metadata": {},
   "outputs": [],
   "source": [
    "size == 1"
   ]
  },
  {
   "cell_type": "code",
   "execution_count": 7,
   "metadata": {},
   "outputs": [],
   "source": [
    "size = -1\n",
    "size < 0"
   ]
  },
  {
   "cell_type": "markdown",
   "metadata": {},
   "source": [
    "Due to some legacy issues left over from Python 2, booleans can be treated as numbers. True is 1; False is 0.\n",
    "\n",
    "```python\n",
    ">>> True + True\n",
    "2\n",
    ">>> True - False\n",
    "1\n",
    ">>> True * False\n",
    "0\n",
    ">>> True / False\n",
    "Traceback (most recent call last):\n",
    "  File \"<stdin>\", line 1, in <module>\n",
    "ZeroDivisionError: int division or modulo by zero\n",
    "```\n",
    "\n",
    "**Don’t do that**. Forget I even mentioned it."
   ]
  },
  {
   "cell_type": "code",
   "execution_count": 25,
   "metadata": {},
   "outputs": [],
   "source": [
    "(0.2 + 0.15)- 0.3 < 0.1**6"
   ]
  },
  {
   "cell_type": "code",
   "execution_count": 19,
   "metadata": {},
   "outputs": [],
   "source": [
    "0.1**6"
   ]
  },
  {
   "cell_type": "markdown",
   "metadata": {},
   "source": [
    "### Coercing Integers To Float And Vice-Versa\n",
    "\n",
    "As you just saw, some operators (like addition) will coerce integers to floating point numbers as needed. You can also coerce them by yourself.\n",
    "\n",
    "skip over this code listing\n",
    "\n",
    "```python\n",
    ">>> float(2) ①\n",
    "2.0\n",
    ">>> int(2.0) ②\n",
    "2\n",
    ">>> int(2.5) ③\n",
    "2\n",
    ">>> int(-2.5) ④\n",
    "-2\n",
    ">>> 1.12345678901234567890 ⑤\n",
    "1.1234567890123457\n",
    ">>> type(1000000000000000) ⑥\n",
    "<class 'int'>\n",
    "```\n",
    "\n",
    "①\tYou can explicitly coerce an **int** to a **float** by calling the **float()** function.\n",
    "\n",
    "②\tUnsurprisingly, you can also coerce a **float** to an **int** by calling **int()**.\n",
    "\n",
    "③\tThe **int()** function will truncate, not round.\n",
    "\n",
    "④\tThe **int()** function truncates negative numbers towards 0. It’s a true truncate function, not a floor function.\n",
    "\n",
    "⑤\tFloating point numbers are accurate to 15 decimal places.\n",
    "\n",
    "⑥\tIntegers can be arbitrarily large."
   ]
  },
  {
   "cell_type": "markdown",
   "metadata": {
    "id": "wQiX6GDnwpVb"
   },
   "source": [
    "### Strings\n",
    "Besides numbers, Python can also manipulate strings, which can be expressed in\n",
    "several ways.\n",
    "They can be enclosed in single quotes ('. . . ') or double quotes (\". . . \") with the\n",
    "same result.\n",
    "String literals can span multiple lines. One way is using triple-quotes: \"\"\". . . \"\"\" or '''. . . '''."
   ]
  },
  {
   "cell_type": "code",
   "execution_count": 26,
   "metadata": {
    "id": "ocAY6tGSwpVc"
   },
   "outputs": [],
   "source": [
    "print('spam eggs') # single quotes\n",
    "print('doesn\\'t')  # use \\’ to escape the single quote...\n",
    "\n",
    "# ...or use double quotes instead\n",
    "print(\"doesn't\")\n",
    "print('\"Yes,\" he said.')\n",
    "\n",
    "# An example of a multi-line string\n",
    "print(\"\"\"\n",
    " Usage: thingy [OPTIONS]\n",
    "        -h\n",
    "        -H hostname\n",
    "\"\"\")"
   ]
  },
  {
   "cell_type": "markdown",
   "metadata": {
    "id": "lDL6nqXjwpVh"
   },
   "source": [
    "### Lists\n",
    "Python supports many compound data types that group together other values.\n",
    "The most versatile is the list, which can be written as a list of comma-separated\n",
    "values (items) between square brackets.\n",
    "Lists might contain items of different types, but usually the items all have the\n",
    "same type.\n",
    "\n",
    "Lists are mutable data structures (you can change their values).\n",
    "Strings can be indexed like lists, but are immutable.\n",
    "\n",
    "Lists are kind of like arrays (random-access indexing), but can expand and change\n",
    "size."
   ]
  },
  {
   "cell_type": "code",
   "execution_count": 27,
   "metadata": {
    "id": "8fYoL4aLwpVi",
    "scrolled": false
   },
   "outputs": [],
   "source": [
    "# A list of square numbers.\n",
    "squares = [1, 4, 9, 16, 25]\n",
    "print('squares:', squares)\n",
    "\n",
    "# You can access element using square braces.\n",
    "print('squares[0]:', squares[0])\n",
    "\n",
    "# Indexing also works right-to-left\n",
    "print('squares[-1]:', squares[-1])\n",
    "\n",
    "squares.append(36)\n",
    "print(squares)\n",
    "print(len(squares))\n",
    "print(squares[2:4])\n",
    "squares[2:4] = []\n",
    "squares"
   ]
  },
  {
   "cell_type": "markdown",
   "metadata": {},
   "source": [
    "#### Mutable vs Immutable"
   ]
  },
  {
   "cell_type": "code",
   "execution_count": 28,
   "metadata": {},
   "outputs": [],
   "source": [
    "s = \"34\"\n",
    "l = [2, 3]\n",
    "print(\"list l:\", l)\n",
    "print(\"adress l:\", id(l))\n",
    "print(\"string s:\",s)\n",
    "print(\"adress s:\", id(s))\n",
    "s += \"5\"\n",
    "l.append(4)\n",
    "print(\"list l:\", l)\n",
    "print(\"adress l:\", id(l))\n",
    "print(\"string s:\",s)\n",
    "print(\"adress s:\", id(s))"
   ]
  },
  {
   "cell_type": "markdown",
   "metadata": {
    "id": "XiqFcN1xwpVl"
   },
   "source": [
    "Lists are mutable data structures (you can change their values). Strings can be indexed like lists, but are immutable."
   ]
  },
  {
   "cell_type": "code",
   "execution_count": null,
   "metadata": {
    "id": "8R17V4k1wpVm"
   },
   "outputs": [],
   "source": [
    "# A list of cubes (with one error)\n",
    "cubes = [1, 8, 27, 65, 125] \n",
    "cubes[3] = 64 # replace the wrong value\n",
    "print('cubes:', cubes)\n",
    "\n",
    "# Try to do same with a string.\n",
    "foo = '1234567'\n",
    "print('foo[3]: ' + foo[3])\n",
    "foo[3] = '9'"
   ]
  },
  {
   "cell_type": "markdown",
   "metadata": {
    "id": "d-004TBhwpVo"
   },
   "source": [
    "### Tuples\n",
    "Tuples are like lists, but are used in different situations and for different things.\n",
    "Tuples are immutable, and usually contain a heterogeneous sequence of elements\n",
    "that are accessed via unpacking (see later example) or indexing."
   ]
  },
  {
   "cell_type": "code",
   "execution_count": 29,
   "metadata": {
    "id": "gs4lLKoKwpVp"
   },
   "outputs": [],
   "source": [
    "# You can leave the parentheses off, if you like.\n",
    "t = (12345, 54321, 'hello!')\n",
    "print('t[0]: ', t[0])\n",
    "print('t: ', t)\n",
    "print(t[:2])\n",
    "# they can contain mutable objects:\n",
    "v = ([1, 2, 3], [3, 2, 1])\n",
    "print('v: ', v)\n",
    "v[0].append(100)\n",
    "v"
   ]
  },
  {
   "cell_type": "markdown",
   "metadata": {
    "id": "IRNeQ55AwpVu"
   },
   "source": [
    "### Tuple packing and unpacking\n",
    "Tuple construction is referred to as “tuple packing” since you are\n",
    "packing elements together into a single compound data structure.\n",
    "The reverse is also possible, by which tuple values are unpacked into a\n",
    "sequence of variables."
   ]
  },
  {
   "cell_type": "code",
   "execution_count": 30,
   "metadata": {
    "id": "sue6pbeDwpVu"
   },
   "outputs": [],
   "source": [
    "# Make the tuple.\n",
    "t = (12345, 54321, 'hello!')\n",
    "\n",
    "# Print the value.\n",
    "print('Tuple: ', t)\n",
    "\n",
    "# Unpack the tuple into individual variables.\n",
    "(x, y, z) = t\n",
    "print('x: ', x)\n",
    "print('y: ', y)\n",
    "print('z: ', z)\n",
    "\n",
    "def foo(a, b):\n",
    "    return (a + b, [a * b, float(a) / b])\n",
    "\n",
    "(s, l) = foo(10, 20)\n",
    "s"
   ]
  },
  {
   "cell_type": "code",
   "execution_count": null,
   "metadata": {
    "id": "QPkoJroH1eN6"
   },
   "outputs": [],
   "source": [
    "(s, _) = foo(10, 20)\n",
    "print(s)"
   ]
  },
  {
   "cell_type": "markdown",
   "metadata": {
    "id": "bImjmZb3wpVx"
   },
   "source": [
    "### Dictionaries\n",
    "\n",
    "Python relies heavily on the use of dictionaries to organize access to key/value\n",
    "pairs.\n",
    "Dictionaries are sometimes called hashes, associative arrays, or HashMap in Java\n",
    "and std::Map in C++."
   ]
  },
  {
   "cell_type": "code",
   "execution_count": null,
   "metadata": {
    "id": "iR9fYqAJwpVy"
   },
   "outputs": [],
   "source": [
    "# Map names to numbers.\n",
    "tel = {'jack': 4098, 'sape': 4139}\n",
    "\n",
    "# Add Guido's number.\n",
    "tel['guido'] = 4127\n",
    "\n",
    "# Print some stuff.\n",
    "print('Guido\\'s #: ', tel['guido'])\n",
    "\n",
    "# Change Guido's number.\n",
    "tel['guido'] = 1234\n",
    "\n",
    "print('The whole dict: ', tel)\n",
    "print('The keys: ', tel.keys())\n",
    "\n",
    "# Check if 'guido' is in the keys of dict 'tel'.\n",
    "print('Guido in tel?', 'guido' in tel)\n",
    "\n",
    "tel[10] = 1234\n",
    "\n",
    "tel.items()"
   ]
  },
  {
   "cell_type": "markdown",
   "metadata": {},
   "source": [
    "## Sets\n",
    "\n",
    "In Python, a Set is an unordered collection of data items that are unique. In other words, Python Set is a collection of elements (Or objects) that contains no duplicate elements.\n",
    "\n",
    "It is an unordered data set. So you cannot access elements by their index or perform insert operation using an index number.\n",
    "\n",
    "**Characteristics of a Set**\n",
    "\n",
    "- A set is a built-in data structure in Python with the following three characteristics.\n",
    "\n",
    "- **Unordered:** The items in the set are unordered, unlike lists, i.e., it will not maintain the order in which the items are inserted. The items will be in a different order each time when we access the Set object. There will not be any index value assigned to each item in the set.\n",
    "- **Unchangeable:** Set items must be immutable. We cannot change the set items, i.e., We cannot modify the items’ value. But we can add or remove items to the Set. A set itself may be modified, but the elements contained in the set must be of an immutable type.\n",
    "- **Unique:** There cannot be two items with the same value in the set.\n"
   ]
  },
  {
   "cell_type": "code",
   "execution_count": 2,
   "metadata": {},
   "outputs": [],
   "source": [
    "# create a set using {}\n",
    "# set of mixed types intger, string, and floats\n",
    "sample_set = {'Mark', 'Jessa', 25, 75.25}\n",
    "print(sample_set)\n",
    "\n",
    "\n",
    "# create a set using set constructor\n",
    "# set of strings\n",
    "book_set = set((\"Harry Potter\", \"Angels and Demons\", \"Atlas Shrugged\"))\n",
    "print(book_set)\n",
    "\n",
    "\n",
    "print(type(book_set))  \n",
    "# Output class 'set'"
   ]
  },
  {
   "cell_type": "markdown",
   "metadata": {},
   "source": [
    "**Create Set from list**\n",
    "\n",
    "Also, set eliminating duplicate entries so if you try to create a set with duplicate items it will store an item only once and delete all duplicate items. Let’s create a set from an iterable like a list. We generally use this approach when we wanted to remove duplicate items from a list"
   ]
  },
  {
   "cell_type": "code",
   "execution_count": 3,
   "metadata": {},
   "outputs": [],
   "source": [
    "# list with duplicate items\n",
    "number_list = [20, 30, 20, 30, 50, 30]\n",
    "# create a set from a list\n",
    "sample_set = set(number_list)\n",
    "\n",
    "print(sample_set)\n",
    "# Output {50, 20, 30}"
   ]
  },
  {
   "cell_type": "markdown",
   "metadata": {},
   "source": [
    "**Method Description**\n",
    "\n",
    "- `remove()`\tTo remove a single item from a set. This method will take one parameter, which is the item to be removed from the set. Throws a keyerror if an item not present in the original set\n",
    "- `discard()`\tTo remove a single item that may or may not be present in the set. This method also takes one parameter, which is the item to be removed. If that item is present, it will remove it. It will not throw any error if it is not present.\n",
    "- `pop()`\tTo remove any random item from a set\n",
    "- `clear()`\tTo remove all items from the Set. The output will be an empty set\n",
    "- `del` set\tDelete the entire set"
   ]
  },
  {
   "cell_type": "markdown",
   "metadata": {
    "id": "vuLTfQXZwpV-"
   },
   "source": [
    "## Enumerations\n",
    "Sometimes you need list items *and* their indices -- this is\n",
    "        called *enumerating* list items.\n",
    "      You can use ``len()`` and ``range()`` for this.\n",
    "      Or, you can use the ``enumerate()`` function and *unpack* the\n",
    "        pairs."
   ]
  },
  {
   "cell_type": "code",
   "execution_count": 34,
   "metadata": {
    "id": "kULsqVA2wpV_"
   },
   "outputs": [],
   "source": [
    "# A simple list.\n",
    "a = ['Mary', 'had', 'a', 'little', 'lamb']\n",
    "\n",
    "# Iterate over all indices in the list.\n",
    "for i in range(len(a)):\n",
    "    print(i, a[i])\n",
    "\n",
    "# An enumerate object behaves like a list.    \n",
    "print('\\nenum:', enumerate(a))\n",
    "print('list:', list(enumerate(a)))\n",
    "\n",
    "# Iterate over pairs of (i, name) which have both index and name.\n",
    "for (i, name) in enumerate(a):\n",
    "    print('Foo: {} {}'.format(i, name))"
   ]
  },
  {
   "cell_type": "markdown",
   "metadata": {
    "id": "1wR-JOAUwpWB"
   },
   "source": [
    "## List comprehensions\n",
    "List comprehensions provide a concise way to create lists.\n",
    "Common applications are to make new lists where each element is the result\n",
    "operations applied to each member of another sequence (this is called a map).\n",
    "Or to create a subsequence of those elements that satisfy a certain condition (this\n",
    "is called a filter)."
   ]
  },
  {
   "cell_type": "markdown",
   "metadata": {},
   "source": [
    " `newlist = [expression for item in iterable if condition == True]`"
   ]
  },
  {
   "cell_type": "code",
   "execution_count": 38,
   "metadata": {
    "id": "FgC7ptmHwpWC"
   },
   "outputs": [],
   "source": [
    "# This is the lame way to do this...\n",
    "squares = []\n",
    "for x in range(10):\n",
    "    squares.append(x**2)\n",
    "print('    lame:', squares)\n",
    "\n",
    "# Much better:\n",
    "squares = [x**2 for x in range(10)]\n",
    "print('not lame:', squares) "
   ]
  },
  {
   "cell_type": "markdown",
   "metadata": {
    "id": "DUeMNBErwpWE"
   },
   "source": [
    "A list comprehension consists of brackets containing an expression followed by a\n",
    "for clause.\n",
    "Then zero or more ''for'' or ''if'' clauses.\n",
    "The result is a new list resulting from evaluating the expression in the context of\n",
    "the for and if clauses which follow it."
   ]
  },
  {
   "cell_type": "code",
   "execution_count": 39,
   "metadata": {
    "id": "B3cDci6PwpWF"
   },
   "outputs": [],
   "source": [
    "print('filter:', [x ** 2 for x in range(10) if (x % 2) == 0])\n",
    "print('nested:', [(x, y) for x in [1,2,3] for y in [3,1,4]])\n",
    "\n",
    "# Let's get a bit fancier.\n",
    "from math import pi\n",
    "[round(pi, i) for i in range(1, 6)]"
   ]
  }
 ],
 "metadata": {
  "colab": {
   "collapsed_sections": [],
   "private_outputs": true,
   "provenance": []
  },
  "kernelspec": {
   "display_name": "Python 3",
   "language": "python",
   "name": "python3"
  },
  "language_info": {
   "codemirror_mode": {
    "name": "ipython",
    "version": 3
   },
   "file_extension": ".py",
   "mimetype": "text/x-python",
   "name": "python",
   "nbconvert_exporter": "python",
   "pygments_lexer": "ipython3",
   "version": "3.8.10"
  }
 },
 "nbformat": 4,
 "nbformat_minor": 1
}
